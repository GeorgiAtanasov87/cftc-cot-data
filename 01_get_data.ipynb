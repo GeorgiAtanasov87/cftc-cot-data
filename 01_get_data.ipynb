{
 "cells": [
  {
   "cell_type": "code",
   "execution_count": null,
   "id": "d341366e-b61c-445f-95e8-3d4d98a90834",
   "metadata": {
    "tags": []
   },
   "outputs": [],
   "source": [
    "# import requests\n",
    "# import pathlib\n",
    "# import os\n",
    "# import zipfile\n",
    "# import re\n",
    "# import pandas as pd"
   ]
  },
  {
   "cell_type": "code",
   "execution_count": null,
   "id": "c38811e6-1a7b-4b13-aabe-d02ef513fe8b",
   "metadata": {
    "tags": []
   },
   "outputs": [],
   "source": [
    "from data_collection import download_cot_zip, aggregate_reports\n",
    "import pathlib\n",
    "from tqdm import tqdm\n",
    "from datetime import datetime\n",
    "import pandas as pd"
   ]
  },
  {
   "cell_type": "markdown",
   "id": "ea180dea-36d4-4ee8-8fb3-3771a9564449",
   "metadata": {},
   "source": [
    "### Configuration"
   ]
  },
  {
   "cell_type": "code",
   "execution_count": null,
   "id": "bada5efd-a4bc-4e17-bcf8-b97da82418ec",
   "metadata": {
    "tags": []
   },
   "outputs": [],
   "source": [
    "data_location = pathlib.Path('data/zip')"
   ]
  },
  {
   "cell_type": "code",
   "execution_count": null,
   "id": "f075e804-64c3-4e12-8c02-33c61cfbf7d8",
   "metadata": {
    "tags": []
   },
   "outputs": [],
   "source": [
    "overwrite = False\n",
    "if (pathlib.Path('data/zip/deacot1988.zip').is_file()) & (not overwrite):\n",
    "    print(\"SKIP FILE\")\n",
    "else:\n",
    "    print(\"DOWNLOAD\")"
   ]
  },
  {
   "cell_type": "markdown",
   "id": "0f9ba455-6cec-4995-bf24-44e433cfd71c",
   "metadata": {},
   "source": [
    "#### Download all futures only data from www.cftc.gov"
   ]
  },
  {
   "cell_type": "code",
   "execution_count": null,
   "id": "219ad290-c094-45a9-8350-fc0f886f6ee2",
   "metadata": {
    "tags": []
   },
   "outputs": [],
   "source": [
    "for year in tqdm(range(1986, datetime.now().year + 1)):\n",
    "    download_cot_zip(year, data_location)"
   ]
  },
  {
   "cell_type": "markdown",
   "id": "496576e5-e29c-4a06-9881-e88fcdb38bb0",
   "metadata": {},
   "source": [
    "### Parse to single parquet"
   ]
  },
  {
   "cell_type": "code",
   "execution_count": null,
   "id": "1c09be3b-c827-4485-971c-e6e86c182d19",
   "metadata": {
    "tags": []
   },
   "outputs": [],
   "source": [
    "df = pd.DataFrame()\n",
    "for file_path in tqdm(data_location.glob('*.zip')):\n",
    "    df = pd.concat([df, parse_annual_zip(file_path)])\n",
    "df.sort_values(by=['product', 'report_date'], ascending=True)"
   ]
  },
  {
   "cell_type": "code",
   "execution_count": null,
   "id": "a801d292-9c67-49a8-9431-7ffb38611e89",
   "metadata": {
    "tags": []
   },
   "outputs": [],
   "source": [
    "t = df.sort_values(by=['product', 'report_date'], ascending=True)"
   ]
  },
  {
   "cell_type": "code",
   "execution_count": null,
   "id": "2d016d0d-8813-40e6-8b3f-202f4e2d6e2f",
   "metadata": {
    "tags": []
   },
   "outputs": [],
   "source": [
    "t.loc[('E-MINI S&P 500 STOCK INDEX - CHICAGO MERCANTILE EXCHANGE', slice(None))]"
   ]
  },
  {
   "cell_type": "code",
   "execution_count": null,
   "id": "bd010cae-1b6a-4927-89a3-c5cb2eead54d",
   "metadata": {
    "tags": []
   },
   "outputs": [],
   "source": [
    "t.to_parquet('data/all_cot.parquet')"
   ]
  },
  {
   "cell_type": "code",
   "execution_count": null,
   "id": "de1aa48f-5e35-4323-8620-5ee3bedaf687",
   "metadata": {
    "tags": []
   },
   "outputs": [],
   "source": [
    "features_list = df.index.get_level_values(0).unique()\n",
    "latest_report_date = t.index.get_level_values(1).max()"
   ]
  },
  {
   "cell_type": "code",
   "execution_count": null,
   "id": "9f8bc1a1-b7b6-4b89-ab39-2c05b567b31a",
   "metadata": {
    "tags": []
   },
   "outputs": [],
   "source": [
    "features_list[features_list.str.contains(\"S&P\")]"
   ]
  },
  {
   "cell_type": "code",
   "execution_count": null,
   "id": "7e020832-caf3-4769-baa4-585eea18945f",
   "metadata": {
    "tags": []
   },
   "outputs": [],
   "source": [
    "pd.concat([df,df2])"
   ]
  },
  {
   "cell_type": "code",
   "execution_count": null,
   "id": "d6b17b8a-f766-4370-b034-1a6a7cb9d30c",
   "metadata": {
    "tags": []
   },
   "outputs": [],
   "source": [
    "pd.read_csv(\"data/zip/deacot1989.zip\").columns"
   ]
  },
  {
   "cell_type": "code",
   "execution_count": null,
   "id": "b6e0dae8-fb3a-4c15-a700-674edde0d197",
   "metadata": {
    "tags": []
   },
   "outputs": [],
   "source": [
    "df = df.rename(columns={\n",
    "    'Market and Exchange Names': 'product',\n",
    "    'As of Date in Form YYMMDD': 'report_date',\n",
    "    'Noncommercial Positions-Long (All)': 'noncommercial_long',\n",
    "    'Noncommercial Positions-Short (All)': 'noncommercial_short',\n",
    "    'Commercial Positions-Long (All)': 'commercial_long',\n",
    "    'Commercial Positions-Short (All)': 'commercial_short',\n",
    "}).set_index(['product', 'report_date'])"
   ]
  },
  {
   "cell_type": "code",
   "execution_count": null,
   "id": "17ab12a3-f1d7-4cc5-aee9-7b6c5538b13c",
   "metadata": {
    "tags": []
   },
   "outputs": [],
   "source": [
    "df.info()"
   ]
  },
  {
   "cell_type": "markdown",
   "id": "31ec3f79-1275-4881-ba16-d9d539270ab0",
   "metadata": {},
   "source": [
    "### OLD STUFF"
   ]
  },
  {
   "cell_type": "code",
   "execution_count": null,
   "id": "729e92fc-0693-47c8-81e2-760efc03ad75",
   "metadata": {
    "tags": []
   },
   "outputs": [],
   "source": [
    "data_folder = 'data'\n",
    "year = 2017\n",
    "file_path = pathlib.Path(data_folder, f\"{year}.csv\")\n",
    "zip_path = pathlib.Path(f\"{data_folder}/zip/deacot{year}.zip\")\n",
    "zip_path"
   ]
  },
  {
   "cell_type": "code",
   "execution_count": null,
   "id": "0d114412-2f3b-41a0-a9bd-b226e12d11b8",
   "metadata": {
    "tags": []
   },
   "outputs": [],
   "source": [
    "df = pd.read_csv(zip_path, engine=\"pyarrow\")\n",
    "df.info()"
   ]
  },
  {
   "cell_type": "code",
   "execution_count": null,
   "id": "a3a90c02-736f-4587-bab4-7c30505da6c2",
   "metadata": {
    "tags": []
   },
   "outputs": [],
   "source": [
    "df.head()"
   ]
  },
  {
   "cell_type": "code",
   "execution_count": null,
   "id": "d823a937-dffd-469e-ba18-eb1a2fd80a27",
   "metadata": {
    "tags": []
   },
   "outputs": [],
   "source": [
    "df.columns"
   ]
  },
  {
   "cell_type": "code",
   "execution_count": null,
   "id": "2f261a3f-fbff-4afd-ab75-cd44620dfd3b",
   "metadata": {
    "tags": []
   },
   "outputs": [],
   "source": [
    "def list_files(filepath: str, filetype: str) -> list[str]:\n",
    "    paths = []\n",
    "    for root, dirs, files in os.walk(filepath):\n",
    "        for file in files:\n",
    "            if file.lower().endswith(filetype.lower()):\n",
    "                paths.append(os.path.join(root, file))\n",
    "\n",
    "                \n",
    "def unzip_file(zip_path: str, extract_name: str, extract_folder: str): \n",
    "    with zipfile.ZipFile(zip_path, \"r\") as zf:\n",
    "        zipinfos = zf.infolist()\n",
    "\n",
    "        for zipinfo in zipinfos:\n",
    "            zipinfo.filename = extract_name\n",
    "            zf.extract(zipinfo, extract_folder)"
   ]
  },
  {
   "cell_type": "code",
   "execution_count": null,
   "id": "2634ba15-8a29-4eda-bbce-d4ac0717ce72",
   "metadata": {
    "tags": []
   },
   "outputs": [],
   "source": [
    "url = f'https://www.cftc.gov/files/dea/history/deacot{year}.zip'\n",
    "r = requests.get(url)\n",
    "with open(f'data/zip/deacot{year}.zip', 'wb') as outfile:\n",
    "    outfile.write(r.content)"
   ]
  },
  {
   "cell_type": "code",
   "execution_count": null,
   "id": "02eb6bca-c385-4bf5-b47e-979e057f2078",
   "metadata": {
    "tags": []
   },
   "outputs": [],
   "source": [
    "def unzip_file(zip_path: str, extract_name: str, extract_folder: str): \n",
    "    with zipfile.ZipFile(zip_path, \"r\") as zf:\n",
    "        zipinfos = zf.infolist()\n",
    "\n",
    "        for zipinfo in zipinfos:\n",
    "            zipinfo.filename = extract_name\n",
    "            zf.extract(zipinfo, extract_folder)"
   ]
  },
  {
   "cell_type": "code",
   "execution_count": null,
   "id": "216bafb2-6516-448b-a5f1-516caa149459",
   "metadata": {
    "tags": []
   },
   "outputs": [],
   "source": [
    "extract_folder = 'data'\n",
    "files = list_files(filepath='data/zip', filetype='zip')\n",
    "for file in files:\n",
    "    print(file)\n",
    "    zips = re.search('(\\d{4}_\\d{4})|(\\d{4})', file)\n",
    "    if zips:\n",
    "        extract_name = f\"futures_only_{zips[0]}.csv\"\n",
    "        unzip_file(zip_path=file, extract_name=extract_name, extract_folder=extract_folder)"
   ]
  },
  {
   "cell_type": "code",
   "execution_count": null,
   "id": "c8eaae21-41ae-4b73-ab5d-2d276cbe195e",
   "metadata": {},
   "outputs": [],
   "source": []
  }
 ],
 "metadata": {
  "kernelspec": {
   "display_name": "Python 3 (ipykernel)",
   "language": "python",
   "name": "python3"
  },
  "language_info": {
   "codemirror_mode": {
    "name": "ipython",
    "version": 3
   },
   "file_extension": ".py",
   "mimetype": "text/x-python",
   "name": "python",
   "nbconvert_exporter": "python",
   "pygments_lexer": "ipython3",
   "version": "3.11.4"
  }
 },
 "nbformat": 4,
 "nbformat_minor": 5
}
