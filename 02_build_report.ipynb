{
 "cells": [
  {
   "cell_type": "code",
   "execution_count": null,
   "id": "ae2745f3-14a1-424b-bd4c-99ea3a73b444",
   "metadata": {
    "tags": []
   },
   "outputs": [],
   "source": [
    "import pandas as pd"
   ]
  },
  {
   "cell_type": "code",
   "execution_count": null,
   "id": "ee780133-c26e-4271-949f-a2b772feab3b",
   "metadata": {
    "tags": []
   },
   "outputs": [],
   "source": [
    "df = pd.read_parquet('data/all_cot.parquet')\n",
    "df"
   ]
  },
  {
   "cell_type": "code",
   "execution_count": null,
   "id": "d2bc4354-4a06-4b29-9d1c-bc1b4bddf55c",
   "metadata": {
    "tags": []
   },
   "outputs": [],
   "source": [
    "from pathlib import Path\n",
    "import requests"
   ]
  },
  {
   "cell_type": "code",
   "execution_count": null,
   "id": "8d1357b8-441c-412d-b469-4d0bb1281c87",
   "metadata": {
    "tags": []
   },
   "outputs": [],
   "source": [
    "def download_cot_zip(year: int, folder: Path, overwrite: bool = False) -> None:\n",
    "    \"\"\" Downloads COT Futures only report for a given year as a zip\"\"\"\n",
    "    zip_path = Path(folder, f\"{year}.zip\")\n",
    "    url = f'https://www.cftc.gov/files/dea/history/deacot{year}.zip'\n",
    "    r = requests.get(url)\n",
    "    with open(f'{folder}/deacot{year}.zip', 'wb') as outfile:\n",
    "        outfile.write(r.content)"
   ]
  },
  {
   "cell_type": "code",
   "execution_count": null,
   "id": "5853abf2-2890-4ee1-8942-6c18047cbf1c",
   "metadata": {},
   "outputs": [],
   "source": []
  }
 ],
 "metadata": {
  "kernelspec": {
   "display_name": "Python 3 (ipykernel)",
   "language": "python",
   "name": "python3"
  },
  "language_info": {
   "codemirror_mode": {
    "name": "ipython",
    "version": 3
   },
   "file_extension": ".py",
   "mimetype": "text/x-python",
   "name": "python",
   "nbconvert_exporter": "python",
   "pygments_lexer": "ipython3",
   "version": "3.11.4"
  }
 },
 "nbformat": 4,
 "nbformat_minor": 5
}
